{
  "nbformat": 4,
  "nbformat_minor": 0,
  "metadata": {
    "colab": {
      "provenance": [],
      "gpuType": "T4",
      "toc_visible": true,
      "authorship_tag": "ABX9TyOqVl+2vOAJVZNtQ647d/hh",
      "include_colab_link": true
    },
    "kernelspec": {
      "name": "python3",
      "display_name": "Python 3"
    },
    "language_info": {
      "name": "python"
    },
    "accelerator": "GPU"
  },
  "cells": [
    {
      "cell_type": "markdown",
      "metadata": {
        "id": "view-in-github",
        "colab_type": "text"
      },
      "source": [
        "<a href=\"https://colab.research.google.com/github/nijatmaharramov/Computer-Vision-Projects/blob/main/Facial_emotion_recognition.ipynb\" target=\"_parent\"><img src=\"https://colab.research.google.com/assets/colab-badge.svg\" alt=\"Open In Colab\"/></a>"
      ]
    },
    {
      "cell_type": "code",
      "execution_count": null,
      "metadata": {
        "id": "U_tQKqSv8YG6"
      },
      "outputs": [],
      "source": [
        "from google.colab import files\n",
        "files.upload()"
      ]
    },
    {
      "cell_type": "code",
      "source": [
        "!mkdir -p ~/.kaggle\n",
        "!mv kaggle.json ~/.kaggle/\n",
        "!chmod 600 ~/.kaggle/kaggle.json"
      ],
      "metadata": {
        "id": "lpgqAvxK8gde"
      },
      "execution_count": null,
      "outputs": []
    },
    {
      "cell_type": "code",
      "source": [
        "!kaggle datasets download -d sujaykapadnis/emotion-recognition-dataset"
      ],
      "metadata": {
        "id": "5nAX_LwW8gip"
      },
      "execution_count": null,
      "outputs": []
    },
    {
      "cell_type": "code",
      "source": [
        "import zipfile\n",
        "\n",
        "with zipfile.ZipFile('/content/emotion-recognition-dataset.zip', 'r') as zip_ref:\n",
        "    zip_ref.extractall()"
      ],
      "metadata": {
        "id": "vUrdGmlT8goB"
      },
      "execution_count": null,
      "outputs": []
    },
    {
      "cell_type": "code",
      "source": [
        "import shutil\n",
        "\n",
        "shutil.rmtree('/content/dataset/Ahegao')"
      ],
      "metadata": {
        "id": "Y83WbnK9-ccM"
      },
      "execution_count": null,
      "outputs": []
    },
    {
      "cell_type": "code",
      "source": [
        "import os\n",
        "\n",
        "for dirpath, dirnames, filenames, in os.walk('/content/dataset'):\n",
        "    print(f\"There are {len(dirnames)} directories and {len(filenames)} images in '{dirpath}'.\")"
      ],
      "metadata": {
        "id": "WXOJOBuK_Pg5"
      },
      "execution_count": null,
      "outputs": []
    },
    {
      "cell_type": "code",
      "source": [
        "import tensorflow as tf\n",
        "\n",
        "IMG_SIZE = (224, 224)\n",
        "\n",
        "data_path = '/content/dataset'\n",
        "\n",
        "train_data = tf.keras.preprocessing.image_dataset_from_directory(data_path,\n",
        "                                                                 label_mode = 'categorical',\n",
        "                                                                 image_size = IMG_SIZE,\n",
        "                                                                 validation_split = 0.2,\n",
        "                                                                 subset = 'training',\n",
        "                                                                 seed = 1)\n",
        "\n",
        "test_data = tf.keras.preprocessing.image_dataset_from_directory(data_path,\n",
        "                                                                label_mode = 'categorical',\n",
        "                                                                image_size = IMG_SIZE,\n",
        "                                                                validation_split = 0.2,\n",
        "                                                                subset = 'validation',\n",
        "                                                                seed = 1)"
      ],
      "metadata": {
        "id": "HMFO1-G9_lOR"
      },
      "execution_count": null,
      "outputs": []
    },
    {
      "cell_type": "code",
      "source": [
        "class_names = train_data.class_names\n",
        "class_names"
      ],
      "metadata": {
        "id": "uQThotiVDmox"
      },
      "execution_count": null,
      "outputs": []
    },
    {
      "cell_type": "code",
      "source": [
        "import matplotlib.pyplot as plt\n",
        "import numpy as np\n",
        "\n",
        "# class_names = train_data.class_names\n",
        "\n",
        "plt.figure(figsize = (12,10))\n",
        "for images, labels in train_data.take(1):\n",
        "    for i in range(12):\n",
        "        plt.subplot(3, 4, i + 1)\n",
        "        plt.imshow(images[i] / 255)\n",
        "        plt.title(class_names[np.argmax(labels[i].numpy())])\n",
        "        plt.axis(False)"
      ],
      "metadata": {
        "id": "s7YZtGBOCK4Q"
      },
      "execution_count": null,
      "outputs": []
    },
    {
      "cell_type": "code",
      "source": [
        "# train_data = train_data.cache().shuffle(1000).prefetch(buffer_size = tf.data.AUTOTUNE)\n",
        "# test_data = test_data.cache().prefetch(buffer_size = tf.data.AUTOTUNE)"
      ],
      "metadata": {
        "id": "GqhA_2iXA0tk"
      },
      "execution_count": null,
      "outputs": []
    },
    {
      "cell_type": "code",
      "source": [
        "model = tf.keras.Sequential([\n",
        "    tf.keras.layers.Input(shape = (224, 224, 3)),\n",
        "    tf.keras.layers.Rescaling(1 / 255.),\n",
        "    tf.keras.layers.Conv2D(64, kernel_size = 7, strides = 3, padding = 'same', activation = 'relu', kernel_initializer = 'he_normal'),\n",
        "    tf.keras.layers.MaxPool2D(),\n",
        "    tf.keras.layers.Conv2D(128, kernel_size = 3, padding = 'same', activation = 'relu', kernel_initializer = 'he_normal'),\n",
        "    tf.keras.layers.Conv2D(128, kernel_size = 3, padding = 'same', activation = 'relu', kernel_initializer = 'he_normal'),\n",
        "    tf.keras.layers.MaxPool2D(),\n",
        "    tf.keras.layers.Conv2D(256, kernel_size = 3, padding = 'same', activation = 'relu', kernel_initializer = 'he_normal'),\n",
        "    tf.keras.layers.Conv2D(256, kernel_size = 3, padding = 'same', activation = 'relu', kernel_initializer = 'he_normal'),\n",
        "    tf.keras.layers.MaxPool2D(),\n",
        "    tf.keras.layers.Flatten(),\n",
        "    tf.keras.layers.Dense(128, activation = 'relu', kernel_initializer = 'he_normal'),\n",
        "    tf.keras.layers.Dropout(0.5),\n",
        "    tf.keras.layers.Dense(64, activation = 'relu', kernel_initializer = 'he_normal'),\n",
        "    tf.keras.layers.Dropout(0.5),\n",
        "    tf.keras.layers.Dense(len(class_names), activation = 'softmax')\n",
        "                            ])"
      ],
      "metadata": {
        "id": "HfTfF49MDK31"
      },
      "execution_count": null,
      "outputs": []
    },
    {
      "cell_type": "code",
      "source": [
        "model.summary()"
      ],
      "metadata": {
        "id": "m0r_s8ECHJPb"
      },
      "execution_count": null,
      "outputs": []
    },
    {
      "cell_type": "code",
      "source": [
        "model.compile(loss = 'categorical_crossentropy',\n",
        "              optimizer = tf.keras.optimizers.Adam(),\n",
        "              metrics = ['accuracy', 'f1_score'])\n",
        "\n",
        "model.fit(train_data, epochs = 5, validation_data = test_data)"
      ],
      "metadata": {
        "id": "64vjcbgjHnSP"
      },
      "execution_count": null,
      "outputs": []
    },
    {
      "cell_type": "markdown",
      "source": [
        "# Resnet50"
      ],
      "metadata": {
        "id": "fE2JnaTDPz4A"
      }
    },
    {
      "cell_type": "code",
      "source": [
        "inputs = tf.keras.layers.Input(shape = (224, 224, 3))\n",
        "\n",
        "x = tf.keras.applications.resnet50.preprocess_input(inputs)\n",
        "\n",
        "base_model = tf.keras.applications.ResNet50(include_top = False, input_tensor = x)\n",
        "\n",
        "avg = tf.keras.layers.GlobalAveragePooling2D()(base_model.output)\n",
        "\n",
        "output = tf.keras.layers.Dense(len(class_names), activation = 'softmax')(avg)\n",
        "model2 = tf.keras.Model(inputs = inputs, outputs = output)"
      ],
      "metadata": {
        "id": "rEc_vMANIs5P"
      },
      "execution_count": null,
      "outputs": []
    },
    {
      "cell_type": "code",
      "source": [
        "base_model.trainable = False"
      ],
      "metadata": {
        "id": "qdLwO1JXJZV9"
      },
      "execution_count": null,
      "outputs": []
    },
    {
      "cell_type": "code",
      "source": [
        "initial_learning_rate = 0.01\n",
        "lr_schedule = tf.keras.optimizers.schedules.ExponentialDecay(\n",
        "    initial_learning_rate,\n",
        "    decay_steps = 357,\n",
        "    decay_rate = 0.96\n",
        "                                                        )\n",
        "\n",
        "early_stopping = tf.keras.callbacks.EarlyStopping(patience = 2,\n",
        "                                                  restore_best_weights = True)\n",
        "\n",
        "checkpoint_cb = tf.keras.callbacks.ModelCheckpoint(\n",
        "    'emotion_detector.keras',\n",
        "    save_best_only = True\n",
        ")\n",
        "\n",
        "model2.compile(\n",
        "    loss = 'categorical_crossentropy',\n",
        "    optimizer = tf.keras.optimizers.Adam(lr_schedule),\n",
        "    metrics = ['accuracy', 'f1_score']\n",
        "            )\n",
        "\n",
        "model2.fit(train_data, epochs = 10, validation_data = test_data,\n",
        "          callbacks = [early_stopping, checkpoint_cb])"
      ],
      "metadata": {
        "id": "nnsLUgKoKz-5"
      },
      "execution_count": null,
      "outputs": []
    },
    {
      "cell_type": "markdown",
      "source": [
        "# Predictive system"
      ],
      "metadata": {
        "id": "Vdf8j2HPTHdj"
      }
    },
    {
      "cell_type": "code",
      "source": [
        "import matplotlib.pyplot as plt\n",
        "import matplotlib.image as mpimg\n",
        "\n",
        "def plot_and_pred(model, image_path):\n",
        "    plt.figure(figsize = (10,8))\n",
        "    image = mpimg.imread(image_path)\n",
        "    image = tf.image.resize(image, (224, 224))\n",
        "    pred_probs = model.predict(np.expand_dims(image, axis=0))\n",
        "    pred = class_names[np.argmax(pred_probs)]\n",
        "    plt.subplot(1, 2, 1)\n",
        "    plt.imshow(image / 255.)\n",
        "    plt.title(pred, color = 'green')\n",
        "    plt.axis('off')\n",
        "    plt.subplot(1, 2, 2)\n",
        "    plt.bar(class_names, pred_probs[0])\n",
        "    plt.xlabel('Class')\n",
        "    plt.ylabel('Probability')"
      ],
      "metadata": {
        "id": "P0FnYVnON5Ud"
      },
      "execution_count": null,
      "outputs": []
    },
    {
      "cell_type": "code",
      "source": [
        "# plot_and_pred(model2, '/content/Happiness-1-506x319.png')"
      ],
      "metadata": {
        "id": "7MNjgglXOTEm"
      },
      "execution_count": null,
      "outputs": []
    },
    {
      "cell_type": "markdown",
      "source": [
        "# Xception"
      ],
      "metadata": {
        "id": "pjTR7vYDQ-XD"
      }
    },
    {
      "cell_type": "code",
      "source": [
        "inputs = tf.keras.layers.Input(shape = (224, 224, 3))\n",
        "\n",
        "x = tf.keras.applications.xception.preprocess_input(inputs)\n",
        "\n",
        "base_model3 = tf.keras.applications.Xception(include_top = False, input_tensor = x)\n",
        "\n",
        "avg = tf.keras.layers.GlobalAveragePooling2D()(base_model3.output)\n",
        "\n",
        "output = tf.keras.layers.Dense(len(class_names), activation = 'softmax')(avg)\n",
        "\n",
        "model3 = tf.keras.Model(inputs=inputs, outputs=output)\n",
        "\n"
      ],
      "metadata": {
        "id": "BsaZCP3GP_L8"
      },
      "execution_count": null,
      "outputs": []
    },
    {
      "cell_type": "code",
      "source": [
        "base_model3.trainable = False"
      ],
      "metadata": {
        "id": "GIDKKXR0P_Rb"
      },
      "execution_count": null,
      "outputs": []
    },
    {
      "cell_type": "code",
      "source": [
        "initial_lr = 0.01\n",
        "schedule_lr = tf.keras.optimizers.schedules.ExponentialDecay(\n",
        "    initial_lr,\n",
        "    decay_steps = 357,\n",
        "    decay_rate = 0.96\n",
        ")\n",
        "\n",
        "early_bird = tf.keras.callbacks.EarlyStopping(patience=3, restore_best_weights=True)\n",
        "\n",
        "\n",
        "# ne oldugun sorus\n",
        "checkpoint_cb = tf.keras.callbacks.ModelCheckpoint(\n",
        "    'emotion_detector.keras',\n",
        "    save_best_only = True\n",
        ")\n",
        "\n",
        "model3.compile(loss='categorical_crossentropy',\n",
        "               optimizer=tf.keras.optimizers.Adam(learning_rate = schedule_lr),\n",
        "               metrics = ['accuracy', 'f1_score'])\n",
        "\n",
        "model3.fit(train_data, epochs = 10, validation_data = test_data,\n",
        "           callbacks = [early_bird, checkpoint_cb])\n"
      ],
      "metadata": {
        "id": "BTToS1LpRXDV"
      },
      "execution_count": null,
      "outputs": []
    }
  ]
}